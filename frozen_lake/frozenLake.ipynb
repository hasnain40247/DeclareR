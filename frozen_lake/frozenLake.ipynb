{
 "cells": [
  {
   "cell_type": "markdown",
   "id": "f999f3eb",
   "metadata": {},
   "source": [
    "## Installation and Imports"
   ]
  },
  {
   "cell_type": "code",
   "execution_count": 2,
   "id": "initial_id",
   "metadata": {
    "collapsed": true
   },
   "outputs": [
    {
     "name": "stdout",
     "output_type": "stream",
     "text": [
      "^C\n"
     ]
    }
   ],
   "source": [
    "!pip install -r ../requirements.txt"
   ]
  },
  {
   "cell_type": "code",
   "execution_count": 2,
   "id": "db73dc83",
   "metadata": {},
   "outputs": [
    {
     "name": "stdout",
     "output_type": "stream",
     "text": [
      "Collecting matplotlib\n",
      "  Using cached matplotlib-3.10.1-cp311-cp311-win_amd64.whl.metadata (11 kB)\n",
      "Collecting contourpy>=1.0.1 (from matplotlib)\n",
      "  Using cached contourpy-1.3.1-cp311-cp311-win_amd64.whl.metadata (5.4 kB)\n",
      "Collecting cycler>=0.10 (from matplotlib)\n",
      "  Using cached cycler-0.12.1-py3-none-any.whl.metadata (3.8 kB)\n",
      "Collecting fonttools>=4.22.0 (from matplotlib)\n",
      "  Downloading fonttools-4.57.0-cp311-cp311-win_amd64.whl.metadata (104 kB)\n",
      "Collecting kiwisolver>=1.3.1 (from matplotlib)\n",
      "  Using cached kiwisolver-1.4.8-cp311-cp311-win_amd64.whl.metadata (6.3 kB)\n",
      "Requirement already satisfied: numpy>=1.23 in c:\\users\\zakir\\documents\\github\\declarer\\.venv\\lib\\site-packages (from matplotlib) (2.2.4)\n",
      "Requirement already satisfied: packaging>=20.0 in c:\\users\\zakir\\documents\\github\\declarer\\.venv\\lib\\site-packages (from matplotlib) (24.2)\n",
      "Collecting pillow>=8 (from matplotlib)\n",
      "  Using cached pillow-11.1.0-cp311-cp311-win_amd64.whl.metadata (9.3 kB)\n",
      "Collecting pyparsing>=2.3.1 (from matplotlib)\n",
      "  Using cached pyparsing-3.2.3-py3-none-any.whl.metadata (5.0 kB)\n",
      "Requirement already satisfied: python-dateutil>=2.7 in c:\\users\\zakir\\documents\\github\\declarer\\.venv\\lib\\site-packages (from matplotlib) (2.9.0.post0)\n",
      "Requirement already satisfied: six>=1.5 in c:\\users\\zakir\\documents\\github\\declarer\\.venv\\lib\\site-packages (from python-dateutil>=2.7->matplotlib) (1.17.0)\n",
      "Using cached matplotlib-3.10.1-cp311-cp311-win_amd64.whl (8.1 MB)\n",
      "Using cached contourpy-1.3.1-cp311-cp311-win_amd64.whl (219 kB)\n",
      "Using cached cycler-0.12.1-py3-none-any.whl (8.3 kB)\n",
      "Downloading fonttools-4.57.0-cp311-cp311-win_amd64.whl (2.2 MB)\n",
      "   ---------------------------------------- 0.0/2.2 MB ? eta -:--:--\n",
      "   ---------------------------------------- 2.2/2.2 MB 24.9 MB/s eta 0:00:00\n",
      "Using cached kiwisolver-1.4.8-cp311-cp311-win_amd64.whl (71 kB)\n",
      "Using cached pillow-11.1.0-cp311-cp311-win_amd64.whl (2.6 MB)\n",
      "Using cached pyparsing-3.2.3-py3-none-any.whl (111 kB)\n",
      "Installing collected packages: pyparsing, pillow, kiwisolver, fonttools, cycler, contourpy, matplotlib\n",
      "Successfully installed contourpy-1.3.1 cycler-0.12.1 fonttools-4.57.0 kiwisolver-1.4.8 matplotlib-3.10.1 pillow-11.1.0 pyparsing-3.2.3\n"
     ]
    }
   ],
   "source": [
    "!pip install matplotlib"
   ]
  },
  {
   "cell_type": "code",
   "execution_count": 4,
   "id": "51def497",
   "metadata": {},
   "outputs": [
    {
     "name": "stdout",
     "output_type": "stream",
     "text": [
      "Processing c:\\users\\zakir\\documents\\github\\declarer\\rlang-0.2.5-py3-none-any.whl\n",
      "INFO: pip is looking at multiple versions of rlang to determine which version is compatible with other requirements. This could take a while.\n"
     ]
    },
    {
     "name": "stderr",
     "output_type": "stream",
     "text": [
      "ERROR: Could not find a version that satisfies the requirement ale-py==0.7.3 (from rlang) (from versions: 0.8.0, 0.8.1, 0.9.0, 0.9.1, 0.10.0, 0.10.1, 0.10.2)\n",
      "ERROR: No matching distribution found for ale-py==0.7.3\n"
     ]
    }
   ],
   "source": [
    "!python -m pip install ../rlang-0.2.5-py3-none-any.whl."
   ]
  },
  {
   "cell_type": "code",
   "execution_count": 5,
   "id": "ff1ea19d",
   "metadata": {},
   "outputs": [
    {
     "name": "stdout",
     "output_type": "stream",
     "text": [
      "Collecting gymnasium\n",
      "  Using cached gymnasium-1.1.1-py3-none-any.whl.metadata (9.4 kB)\n",
      "Collecting numpy>=1.21.0 (from gymnasium)\n",
      "  Using cached numpy-2.2.4-cp311-cp311-win_amd64.whl.metadata (60 kB)\n",
      "Collecting cloudpickle>=1.2.0 (from gymnasium)\n",
      "  Using cached cloudpickle-3.1.1-py3-none-any.whl.metadata (7.1 kB)\n",
      "Requirement already satisfied: typing-extensions>=4.3.0 in c:\\users\\zakir\\documents\\github\\declarer\\.venv\\lib\\site-packages (from gymnasium) (4.13.1)\n",
      "Collecting farama-notifications>=0.0.1 (from gymnasium)\n",
      "  Using cached Farama_Notifications-0.0.4-py3-none-any.whl.metadata (558 bytes)\n",
      "Using cached gymnasium-1.1.1-py3-none-any.whl (965 kB)\n",
      "Using cached cloudpickle-3.1.1-py3-none-any.whl (20 kB)\n",
      "Using cached Farama_Notifications-0.0.4-py3-none-any.whl (2.5 kB)\n",
      "Using cached numpy-2.2.4-cp311-cp311-win_amd64.whl (12.9 MB)\n",
      "Installing collected packages: farama-notifications, numpy, cloudpickle, gymnasium\n",
      "Successfully installed cloudpickle-3.1.1 farama-notifications-0.0.4 gymnasium-1.1.1 numpy-2.2.4\n",
      "Requirement already satisfied: gymnasium[toy-text] in c:\\users\\zakir\\documents\\github\\declarer\\.venv\\lib\\site-packages (1.1.1)\n",
      "Requirement already satisfied: numpy>=1.21.0 in c:\\users\\zakir\\documents\\github\\declarer\\.venv\\lib\\site-packages (from gymnasium[toy-text]) (2.2.4)\n",
      "Requirement already satisfied: cloudpickle>=1.2.0 in c:\\users\\zakir\\documents\\github\\declarer\\.venv\\lib\\site-packages (from gymnasium[toy-text]) (3.1.1)\n",
      "Requirement already satisfied: typing-extensions>=4.3.0 in c:\\users\\zakir\\documents\\github\\declarer\\.venv\\lib\\site-packages (from gymnasium[toy-text]) (4.13.1)\n",
      "Requirement already satisfied: farama-notifications>=0.0.1 in c:\\users\\zakir\\documents\\github\\declarer\\.venv\\lib\\site-packages (from gymnasium[toy-text]) (0.0.4)\n",
      "Collecting pygame>=2.1.3 (from gymnasium[toy-text])\n",
      "  Using cached pygame-2.6.1-cp311-cp311-win_amd64.whl.metadata (13 kB)\n",
      "Using cached pygame-2.6.1-cp311-cp311-win_amd64.whl (10.6 MB)\n",
      "Installing collected packages: pygame\n",
      "Successfully installed pygame-2.6.1\n"
     ]
    }
   ],
   "source": [
    "!pip install gymnasium\n",
    "!pip install \"gymnasium[toy-text]\""
   ]
  },
  {
   "cell_type": "code",
   "execution_count": 3,
   "id": "288765c4",
   "metadata": {},
   "outputs": [],
   "source": [
    "import gymnasium as gym\n",
    "import numpy as np\n",
    "import matplotlib.pyplot as plt"
   ]
  },
  {
   "cell_type": "code",
   "execution_count": 3,
   "id": "261604a3",
   "metadata": {},
   "outputs": [],
   "source": [
    "env = gym.make(\"FrozenLake-v1\", desc=None, map_name=\"4x4\", is_slippery=False, render_mode=\"human\")"
   ]
  },
  {
   "cell_type": "code",
   "execution_count": 4,
   "id": "29e41e4e",
   "metadata": {},
   "outputs": [],
   "source": [
    "observation, info = env.reset(seed=0)"
   ]
  },
  {
   "cell_type": "code",
   "execution_count": 8,
   "id": "60732441",
   "metadata": {},
   "outputs": [
    {
     "data": {
      "text/plain": [
       "(1, 0.0, False, False, {'prob': 1.0})"
      ]
     },
     "execution_count": 8,
     "metadata": {},
     "output_type": "execute_result"
    }
   ],
   "source": [
    "env.step(2)"
   ]
  },
  {
   "cell_type": "code",
   "execution_count": 6,
   "id": "9c57586c",
   "metadata": {},
   "outputs": [],
   "source": [
    "env.render()"
   ]
  },
  {
   "cell_type": "code",
   "execution_count": 16,
   "id": "3e3bef03",
   "metadata": {},
   "outputs": [],
   "source": [
    "env.close()"
   ]
  },
  {
   "cell_type": "code",
   "execution_count": 11,
   "id": "6b073282",
   "metadata": {},
   "outputs": [
    {
     "data": {
      "text/plain": [
       "array([[b'S', b'F', b'F', b'F'],\n",
       "       [b'F', b'H', b'F', b'H'],\n",
       "       [b'F', b'F', b'F', b'H'],\n",
       "       [b'H', b'F', b'F', b'G']], dtype='|S1')"
      ]
     },
     "execution_count": 11,
     "metadata": {},
     "output_type": "execute_result"
    }
   ],
   "source": [
    "env.unwrapped.desc"
   ]
  },
  {
   "cell_type": "code",
   "execution_count": 13,
   "id": "76aa0458",
   "metadata": {},
   "outputs": [],
   "source": [
    "def get_tile_info(env):\n",
    "    desc = env.unwrapped.desc\n",
    "    tiles_info = {\n",
    "        'Start': [],\n",
    "        'Frozen': [],\n",
    "        'Hole': [],\n",
    "        'Goal': []\n",
    "    }\n",
    "\n",
    "    for row in range(desc.shape[0]):\n",
    "        for col in range(desc.shape[1]):\n",
    "            tile = desc[row, col].decode('utf-8')\n",
    "            if tile == 'S':\n",
    "                tiles_info['Start'].append([row, col])\n",
    "            elif tile == 'F':\n",
    "                tiles_info['Frozen'].append([row, col])\n",
    "            elif tile == 'H':\n",
    "                tiles_info['Hole'].append([row, col])\n",
    "            elif tile == 'G':\n",
    "                tiles_info['Goal'].append([row, col])\n",
    "\n",
    "    return tiles_info"
   ]
  },
  {
   "cell_type": "code",
   "execution_count": 12,
   "id": "ce9dd68e",
   "metadata": {},
   "outputs": [
    {
     "name": "stdout",
     "output_type": "stream",
     "text": [
      "Tiles Information:\n",
      "Start Tiles: [[0, 0]]\n",
      "Frozen Tiles: [[0, 1], [0, 2], [0, 3], [1, 0], [1, 2], [2, 0], [2, 1], [2, 2], [3, 1], [3, 2]]\n",
      "Hole Tiles: [[1, 1], [1, 3], [2, 3], [3, 0]]\n",
      "Goal Tiles: [[3, 3]]\n"
     ]
    }
   ],
   "source": [
    "tiles_info = get_tile_info(env)\n",
    "\n",
    "print(\"Tiles Information:\")\n",
    "print(\"Start Tiles:\", tiles_info['Start'])\n",
    "print(\"Frozen Tiles:\", tiles_info['Frozen'])\n",
    "print(\"Hole Tiles:\", tiles_info['Hole'])\n",
    "print(\"Goal Tiles:\", tiles_info['Goal'])"
   ]
  },
  {
   "cell_type": "code",
   "execution_count": 14,
   "id": "db0172ce",
   "metadata": {},
   "outputs": [
    {
     "ename": "NameError",
     "evalue": "name 'tiles_info' is not defined",
     "output_type": "error",
     "traceback": [
      "\u001b[31m---------------------------------------------------------------------------\u001b[39m",
      "\u001b[31mNameError\u001b[39m                                 Traceback (most recent call last)",
      "\u001b[36mCell\u001b[39m\u001b[36m \u001b[39m\u001b[32mIn[14]\u001b[39m\u001b[32m, line 6\u001b[39m\n\u001b[32m      3\u001b[39m         file.write(content)\n\u001b[32m      5\u001b[39m filename = \u001b[33m\"\u001b[39m\u001b[33mfrozen_lake.rlang\u001b[39m\u001b[33m\"\u001b[39m\n\u001b[32m----> \u001b[39m\u001b[32m6\u001b[39m content = \u001b[33mf\u001b[39m\u001b[33m\"\u001b[39m\u001b[33mTiles Information:\u001b[39m\u001b[38;5;130;01m\\n\u001b[39;00m\u001b[33mStart Tiles: \u001b[39m\u001b[38;5;132;01m{\u001b[39;00m\u001b[43mtiles_info\u001b[49m[\u001b[33m'\u001b[39m\u001b[33mStart\u001b[39m\u001b[33m'\u001b[39m]\u001b[38;5;132;01m}\u001b[39;00m\u001b[38;5;130;01m\\n\u001b[39;00m\u001b[33mFrozen Tiles: \u001b[39m\u001b[38;5;132;01m{\u001b[39;00mtiles_info[\u001b[33m'\u001b[39m\u001b[33mFrozen\u001b[39m\u001b[33m'\u001b[39m]\u001b[38;5;132;01m}\u001b[39;00m\u001b[38;5;130;01m\\n\u001b[39;00m\u001b[33mHole Tiles: \u001b[39m\u001b[38;5;132;01m{\u001b[39;00mtiles_info[\u001b[33m'\u001b[39m\u001b[33mHole\u001b[39m\u001b[33m'\u001b[39m]\u001b[38;5;132;01m}\u001b[39;00m\u001b[38;5;130;01m\\n\u001b[39;00m\u001b[33mGoal Tiles: \u001b[39m\u001b[38;5;132;01m{\u001b[39;00mtiles_info[\u001b[33m'\u001b[39m\u001b[33mGoal\u001b[39m\u001b[33m'\u001b[39m]\u001b[38;5;132;01m}\u001b[39;00m\u001b[33m\"\u001b[39m\n\u001b[32m      7\u001b[39m write_to_rlang_file(filename, content)\n",
      "\u001b[31mNameError\u001b[39m: name 'tiles_info' is not defined"
     ]
    }
   ],
   "source": [
    "def write_to_rlang_file(filename, content):\n",
    "    with open(filename, 'w') as file:\n",
    "        file.write(content)\n",
    "\n",
    "filename = \"frozen_lake.rlang\"\n",
    "content = f\"Tiles Information:\\nStart Tiles: {tiles_info['Start']}\\nFrozen Tiles: {tiles_info['Frozen']}\\nHole Tiles: {tiles_info['Hole']}\\nGoal Tiles: {tiles_info['Goal']}\"\n",
    "write_to_rlang_file(filename, content)"
   ]
  },
  {
   "cell_type": "code",
   "execution_count": 19,
   "id": "798f08d4",
   "metadata": {},
   "outputs": [],
   "source": [
    "def env_to_rlang(env):\n",
    "    tiles_info = get_tile_info(env)\n",
    "    desc = env.unwrapped.desc\n",
    "    rows, cols = desc.shape\n",
    "    with open(\"frozen_lake.rlang\", \"w\") as file:\n",
    "        file.write(f\"import vocab.json\\n\")\n",
    "        file.write(f\"Constant frozen_locs := {tiles_info['Frozen']}\\n\")\n",
    "        file.write(f\"Constant hole_locs := {tiles_info['Hole']}\\n\")\n",
    "        file.write(f\"Factor position := S[0,1]\\n\")\n",
    "        file.write(f\"Factor row := position[0]\\n\")\n",
    "        file.write(f\"Factor col := position[1]\\n\")\n",
    "        file.write(f\"Factor state := row * {cols} + col\\n\")\n",
    "        file.write(f\"Proposition reached_goal := state == {tiles_info['Goal'][0][0] * cols + tiles_info['Goal'][0][1]}\\n\")\n",
    "        file.write(f\"Proposition in_hole := position in hole_locs\\n\")\n",
    "        file.write(f\"Action left := 0\\n\")\n",
    "        file.write(f\"Action down := 1\\n\")\n",
    "        file.write(f\"Action right := 2\\n\")\n",
    "        file.write(f\"Action up := 3\\n\")\n",
    "        file.write(f\"Effect movement_effect:\\n\")\n",
    "        file.write(f\"   if A == left and col > 0:\\n\")\n",
    "        file.write(f\"     position += [-1,0]\\n\")\n",
    "        file.write(f\"   elif A == down and row < {rows - 1}:\\n\")\n",
    "        file.write(f\"     position += [0,1]\\n\")\n",
    "        file.write(f\"   elif A == right and col < {cols - 1}:\\n\")\n",
    "        file.write(f\"     position += [1,0]\\n\")\n",
    "        file.write(f\"   elif A == up and row > 0:\\n\")\n",
    "        file.write(f\"     position += [0,-1]\\n\")\n",
    "        file.write(f\"Effect reward effect:\\n\")\n",
    "        file.write(f\"  if reached_goal then\\n\")\n",
    "        file.write(f\"    Reward 1\\n\")\n",
    "        file.write(f\"  else if in_hole then\\n\")\n",
    "        file.write(f\"    Reward 0\\n\")\n",
    "        file.write(f\"  else\\n\")\n",
    "        file.write(f\"    Reward 0\\n\")\n",
    "        file.write(f\"Effect main:\\n\")\n",
    "        file.write(f\"  -> movement_effect\\n\")\n",
    "        file.write(f\"  -> reward effect\\n\")\n",
    "        file.write(f\"Policy lake_policy:\\n\")\n",
    "        file.write(f\"  if not reached_goal:\\n\")\n",
    "        file.write(f\"    if row < goal_y:\\n\")\n",
    "        file.write(f\"      Execute down\\n\")\n",
    "        file.write(f\"    elif col < goal_x:\\n\")\n",
    "        file.write(f\"      Execute right\\n\")        "
   ]
  },
  {
   "cell_type": "code",
   "execution_count": 20,
   "id": "f3d5106e",
   "metadata": {},
   "outputs": [],
   "source": [
    "env_to_rlang(env)"
   ]
  },
  {
   "cell_type": "code",
   "execution_count": 2,
   "id": "17ab53a6",
   "metadata": {},
   "outputs": [
    {
     "name": "stdout",
     "output_type": "stream",
     "text": [
      "^C\n"
     ]
    },
    {
     "name": "stdout",
     "output_type": "stream",
     "text": [
      "Collecting tensorflow\n",
      "  Using cached tensorflow-2.19.0-cp311-cp311-win_amd64.whl.metadata (4.1 kB)\n",
      "Collecting absl-py>=1.0.0 (from tensorflow)\n",
      "  Downloading absl_py-2.2.1-py3-none-any.whl.metadata (2.4 kB)\n",
      "Collecting astunparse>=1.6.0 (from tensorflow)\n",
      "  Using cached astunparse-1.6.3-py2.py3-none-any.whl.metadata (4.4 kB)\n",
      "Collecting flatbuffers>=24.3.25 (from tensorflow)\n",
      "  Downloading flatbuffers-25.2.10-py2.py3-none-any.whl.metadata (875 bytes)\n",
      "Collecting gast!=0.5.0,!=0.5.1,!=0.5.2,>=0.2.1 (from tensorflow)\n",
      "  Using cached gast-0.6.0-py3-none-any.whl.metadata (1.3 kB)\n",
      "Collecting google-pasta>=0.1.1 (from tensorflow)\n",
      "  Using cached google_pasta-0.2.0-py3-none-any.whl.metadata (814 bytes)\n",
      "Collecting libclang>=13.0.0 (from tensorflow)\n",
      "  Using cached libclang-18.1.1-py2.py3-none-win_amd64.whl.metadata (5.3 kB)\n",
      "Collecting opt-einsum>=2.3.2 (from tensorflow)\n",
      "  Using cached opt_einsum-3.4.0-py3-none-any.whl.metadata (6.3 kB)\n",
      "Requirement already satisfied: packaging in c:\\users\\zakir\\documents\\github\\rlang\\.venv\\lib\\site-packages (from tensorflow) (24.2)\n",
      "Collecting protobuf!=4.21.0,!=4.21.1,!=4.21.2,!=4.21.3,!=4.21.4,!=4.21.5,<6.0.0dev,>=3.20.3 (from tensorflow)\n",
      "  Downloading protobuf-5.29.4-cp310-abi3-win_amd64.whl.metadata (592 bytes)\n",
      "Requirement already satisfied: requests<3,>=2.21.0 in c:\\users\\zakir\\documents\\github\\rlang\\.venv\\lib\\site-packages (from tensorflow) (2.32.3)\n",
      "Requirement already satisfied: setuptools in c:\\users\\zakir\\documents\\github\\rlang\\.venv\\lib\\site-packages (from tensorflow) (65.5.1)\n",
      "Requirement already satisfied: six>=1.12.0 in c:\\users\\zakir\\documents\\github\\rlang\\.venv\\lib\\site-packages (from tensorflow) (1.17.0)\n",
      "Collecting termcolor>=1.1.0 (from tensorflow)\n",
      "  Downloading termcolor-3.0.0-py3-none-any.whl.metadata (6.1 kB)\n",
      "Requirement already satisfied: typing-extensions>=3.6.6 in c:\\users\\zakir\\documents\\github\\rlang\\.venv\\lib\\site-packages (from tensorflow) (4.13.0)\n",
      "Collecting wrapt>=1.11.0 (from tensorflow)\n",
      "  Using cached wrapt-1.17.2-cp311-cp311-win_amd64.whl.metadata (6.5 kB)\n",
      "Collecting grpcio<2.0,>=1.24.3 (from tensorflow)\n",
      "  Downloading grpcio-1.71.0-cp311-cp311-win_amd64.whl.metadata (4.0 kB)\n",
      "Collecting tensorboard~=2.19.0 (from tensorflow)\n",
      "  Using cached tensorboard-2.19.0-py3-none-any.whl.metadata (1.8 kB)\n",
      "Collecting keras>=3.5.0 (from tensorflow)\n",
      "  Downloading keras-3.9.1-py3-none-any.whl.metadata (6.1 kB)\n",
      "Collecting numpy<2.2.0,>=1.26.0 (from tensorflow)\n",
      "  Using cached numpy-2.1.3-cp311-cp311-win_amd64.whl.metadata (60 kB)\n",
      "Collecting h5py>=3.11.0 (from tensorflow)\n",
      "  Downloading h5py-3.13.0-cp311-cp311-win_amd64.whl.metadata (2.5 kB)\n",
      "Collecting ml-dtypes<1.0.0,>=0.5.1 (from tensorflow)\n",
      "  Using cached ml_dtypes-0.5.1-cp311-cp311-win_amd64.whl.metadata (22 kB)\n",
      "Collecting tensorflow-io-gcs-filesystem>=0.23.1 (from tensorflow)\n",
      "  Using cached tensorflow_io_gcs_filesystem-0.31.0-cp311-cp311-win_amd64.whl.metadata (14 kB)\n",
      "Collecting wheel<1.0,>=0.23.0 (from astunparse>=1.6.0->tensorflow)\n",
      "  Using cached wheel-0.45.1-py3-none-any.whl.metadata (2.3 kB)\n",
      "Collecting rich (from keras>=3.5.0->tensorflow)\n",
      "  Downloading rich-14.0.0-py3-none-any.whl.metadata (18 kB)\n",
      "Collecting namex (from keras>=3.5.0->tensorflow)\n",
      "  Using cached namex-0.0.8-py3-none-any.whl.metadata (246 bytes)\n",
      "Collecting optree (from keras>=3.5.0->tensorflow)\n",
      "  Downloading optree-0.14.1-cp311-cp311-win_amd64.whl.metadata (50 kB)\n",
      "Requirement already satisfied: charset-normalizer<4,>=2 in c:\\users\\zakir\\documents\\github\\rlang\\.venv\\lib\\site-packages (from requests<3,>=2.21.0->tensorflow) (3.4.1)\n",
      "Requirement already satisfied: idna<4,>=2.5 in c:\\users\\zakir\\documents\\github\\rlang\\.venv\\lib\\site-packages (from requests<3,>=2.21.0->tensorflow) (3.10)\n",
      "Requirement already satisfied: urllib3<3,>=1.21.1 in c:\\users\\zakir\\documents\\github\\rlang\\.venv\\lib\\site-packages (from requests<3,>=2.21.0->tensorflow) (2.3.0)\n",
      "Requirement already satisfied: certifi>=2017.4.17 in c:\\users\\zakir\\documents\\github\\rlang\\.venv\\lib\\site-packages (from requests<3,>=2.21.0->tensorflow) (2025.1.31)\n",
      "Collecting markdown>=2.6.8 (from tensorboard~=2.19.0->tensorflow)\n",
      "  Using cached Markdown-3.7-py3-none-any.whl.metadata (7.0 kB)\n",
      "Collecting tensorboard-data-server<0.8.0,>=0.7.0 (from tensorboard~=2.19.0->tensorflow)\n",
      "  Using cached tensorboard_data_server-0.7.2-py3-none-any.whl.metadata (1.1 kB)\n",
      "Collecting werkzeug>=1.0.1 (from tensorboard~=2.19.0->tensorflow)\n",
      "  Using cached werkzeug-3.1.3-py3-none-any.whl.metadata (3.7 kB)\n",
      "Requirement already satisfied: MarkupSafe>=2.1.1 in c:\\users\\zakir\\documents\\github\\rlang\\.venv\\lib\\site-packages (from werkzeug>=1.0.1->tensorboard~=2.19.0->tensorflow) (3.0.2)\n",
      "Collecting markdown-it-py>=2.2.0 (from rich->keras>=3.5.0->tensorflow)\n",
      "  Using cached markdown_it_py-3.0.0-py3-none-any.whl.metadata (6.9 kB)\n",
      "Requirement already satisfied: pygments<3.0.0,>=2.13.0 in c:\\users\\zakir\\documents\\github\\rlang\\.venv\\lib\\site-packages (from rich->keras>=3.5.0->tensorflow) (2.19.1)\n",
      "Collecting mdurl~=0.1 (from markdown-it-py>=2.2.0->rich->keras>=3.5.0->tensorflow)\n",
      "  Using cached mdurl-0.1.2-py3-none-any.whl.metadata (1.6 kB)\n",
      "Using cached tensorflow-2.19.0-cp311-cp311-win_amd64.whl (375.9 MB)\n",
      "Downloading absl_py-2.2.1-py3-none-any.whl (277 kB)\n",
      "Using cached astunparse-1.6.3-py2.py3-none-any.whl (12 kB)\n",
      "Downloading flatbuffers-25.2.10-py2.py3-none-any.whl (30 kB)\n",
      "Using cached gast-0.6.0-py3-none-any.whl (21 kB)\n",
      "Using cached google_pasta-0.2.0-py3-none-any.whl (57 kB)\n",
      "Downloading grpcio-1.71.0-cp311-cp311-win_amd64.whl (4.3 MB)\n",
      "   ---------------------------------------- 0.0/4.3 MB ? eta -:--:--\n",
      "   --------- ------------------------------ 1.0/4.3 MB 6.3 MB/s eta 0:00:01\n",
      "   ------------------------ --------------- 2.6/4.3 MB 6.9 MB/s eta 0:00:01\n",
      "   ---------------------------------------  4.2/4.3 MB 7.0 MB/s eta 0:00:01\n",
      "   ---------------------------------------- 4.3/4.3 MB 6.6 MB/s eta 0:00:00\n",
      "Downloading h5py-3.13.0-cp311-cp311-win_amd64.whl (3.0 MB)\n",
      "   ---------------------------------------- 0.0/3.0 MB ? eta -:--:--\n",
      "   ---------------------------- ----------- 2.1/3.0 MB 10.7 MB/s eta 0:00:01\n",
      "   ---------------------------------------- 3.0/3.0 MB 8.2 MB/s eta 0:00:00\n",
      "Downloading keras-3.9.1-py3-none-any.whl (1.3 MB)\n",
      "   ---------------------------------------- 0.0/1.3 MB ? eta -:--:--\n",
      "   ---------------------------------------- 1.3/1.3 MB 7.7 MB/s eta 0:00:00\n",
      "Using cached libclang-18.1.1-py2.py3-none-win_amd64.whl (26.4 MB)\n",
      "Using cached ml_dtypes-0.5.1-cp311-cp311-win_amd64.whl (209 kB)\n",
      "Using cached numpy-2.1.3-cp311-cp311-win_amd64.whl (12.9 MB)\n",
      "Using cached opt_einsum-3.4.0-py3-none-any.whl (71 kB)\n",
      "Downloading protobuf-5.29.4-cp310-abi3-win_amd64.whl (434 kB)\n",
      "Using cached tensorboard-2.19.0-py3-none-any.whl (5.5 MB)\n",
      "Using cached tensorflow_io_gcs_filesystem-0.31.0-cp311-cp311-win_amd64.whl (1.5 MB)\n",
      "Downloading termcolor-3.0.0-py3-none-any.whl (6.3 kB)\n",
      "Using cached wrapt-1.17.2-cp311-cp311-win_amd64.whl (38 kB)\n",
      "Using cached Markdown-3.7-py3-none-any.whl (106 kB)\n",
      "Using cached tensorboard_data_server-0.7.2-py3-none-any.whl (2.4 kB)\n",
      "Using cached werkzeug-3.1.3-py3-none-any.whl (224 kB)\n",
      "Using cached wheel-0.45.1-py3-none-any.whl (72 kB)\n",
      "Using cached namex-0.0.8-py3-none-any.whl (5.8 kB)\n",
      "Downloading optree-0.14.1-cp311-cp311-win_amd64.whl (305 kB)\n",
      "Downloading rich-14.0.0-py3-none-any.whl (243 kB)\n",
      "Using cached markdown_it_py-3.0.0-py3-none-any.whl (87 kB)\n",
      "Using cached mdurl-0.1.2-py3-none-any.whl (10.0 kB)\n",
      "Installing collected packages: namex, libclang, flatbuffers, wrapt, wheel, werkzeug, termcolor, tensorflow-io-gcs-filesystem, tensorboard-data-server, protobuf, optree, opt-einsum, numpy, mdurl, markdown, grpcio, google-pasta, gast, absl-py, tensorboard, ml-dtypes, markdown-it-py, h5py, astunparse, rich, keras, tensorflow\n",
      "  Attempting uninstall: numpy\n",
      "    Found existing installation: numpy 2.2.4\n",
      "    Uninstalling numpy-2.2.4:\n",
      "      Successfully uninstalled numpy-2.2.4\n",
      "Successfully installed absl-py-2.2.1 astunparse-1.6.3 flatbuffers-25.2.10 gast-0.6.0 google-pasta-0.2.0 grpcio-1.71.0 h5py-3.13.0 keras-3.9.1 libclang-18.1.1 markdown-3.7 markdown-it-py-3.0.0 mdurl-0.1.2 ml-dtypes-0.5.1 namex-0.0.8 numpy-2.1.3 opt-einsum-3.4.0 optree-0.14.1 protobuf-5.29.4 rich-14.0.0 tensorboard-2.19.0 tensorboard-data-server-0.7.2 tensorflow-2.19.0 tensorflow-io-gcs-filesystem-0.31.0 termcolor-3.0.0 werkzeug-3.1.3 wheel-0.45.1 wrapt-1.17.2\n"
     ]
    }
   ],
   "source": [
    "!pip install tensorflow"
   ]
  },
  {
   "cell_type": "markdown",
   "id": "8c7bbe54",
   "metadata": {},
   "source": [
    "QL"
   ]
  },
  {
   "cell_type": "code",
   "execution_count": null,
   "id": "004436af",
   "metadata": {},
   "outputs": [],
   "source": []
  }
 ],
 "metadata": {
  "kernelspec": {
   "display_name": ".venv",
   "language": "python",
   "name": "python3"
  },
  "language_info": {
   "codemirror_mode": {
    "name": "ipython",
    "version": 3
   },
   "file_extension": ".py",
   "mimetype": "text/x-python",
   "name": "python",
   "nbconvert_exporter": "python",
   "pygments_lexer": "ipython3",
   "version": "3.11.9"
  }
 },
 "nbformat": 4,
 "nbformat_minor": 5
}
